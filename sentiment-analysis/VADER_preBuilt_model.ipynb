{
 "cells": [
  {
   "cell_type": "code",
   "execution_count": 3,
   "metadata": {},
   "outputs": [
    {
     "name": "stderr",
     "output_type": "stream",
     "text": [
      "[nltk_data] Downloading package vader_lexicon to\n",
      "[nltk_data]     /Users/sze/nltk_data...\n"
     ]
    },
    {
     "data": {
      "text/plain": [
       "True"
      ]
     },
     "execution_count": 3,
     "metadata": {},
     "output_type": "execute_result"
    }
   ],
   "source": [
    "from nltk.sentiment.vader import SentimentIntensityAnalyzer\n",
    "import nltk\n",
    "nltk.download('vader_lexicon')"
   ]
  },
  {
   "cell_type": "markdown",
   "metadata": {},
   "source": [
    "### VADER gives polarity of text, however it is focused on social media and short texts "
   ]
  },
  {
   "cell_type": "code",
   "execution_count": 4,
   "metadata": {},
   "outputs": [],
   "source": [
    "content = '''\n",
    " In a proposal sent earlier this week to the Alaska \n",
    "Department of Natural Resources, Exxon Mobil offered to pay the \n",
    "fine and surrender about 20,000 acres of the 116,000-acre Point \n",
    "Thomson unit for failure to develop the field as quickly as \n",
    "promised.  The company's offer was accompanied by an updated plan that \n",
    "links future field development to a yet-to-be-built pipeline \n",
    "that would ship North Slope natural gas to the lower 48 U.S. \n",
    "states. The natural gas pipeline, a massive project estimated \n",
    "to cost over $20 billion, is expected to take years to build.  \"We believe this approach is in the best interest of the \n",
    "State and the PTU (Point Thomson Unit) Owners,\" wrote Richard \n",
    "Owen, Alaska production manager for Exxon Mobil.  Point Thomson holds 250 million to 300 million barrels of \n",
    "liquids, both natural gas condensates and oil, according to \n",
    "state officials. It also holds 8 trillion cubic feet of \n",
    "conventional natural gas.  Some of the 46 leases in the Point Thomson unit were \n",
    "acquired as early as 1965, and more than half were acquired \n",
    "before 1970, according to state information.  Exxon Mobil and its partners -- BP Plc ( BP.L ), Chevron \n",
    "( CVX.N ) and ConocoPhillips ( COP.N ) -- risk losing nearly all \n",
    "the Point Thomson leases if the state finds the new offer \n",
    "insufficient.  The state can trigger revocation action if it deems the \n",
    "company's new development plan unacceptable and if Exxon Mobil \n",
    "fails in appealing an earlier ruling that it has defaulted on \n",
    "terms of its leases, Bill Van Dyke, acting director of the \n",
    "state Division of Oil and Gas, said earlier this week.  Normally, state oil and gas leases expire after five to 10 \n",
    "years if there has been no commercial development, but the unit \n",
    "has been granted many extensions.  The Point Thomson leases, aggregated into an oil-field \n",
    "unit, have been the subject of nearly two dozen development \n",
    "plans. The reserves were discovered in 1977.  Last year, Mark Myers, former director of the Alaska \n",
    "Division of Oil and Gas, ruled that Exxon Mobil had defaulted \n",
    "on its Point Thomson leases. The company had reneged on an \n",
    "agreement signed with the state in 2001 to start drilling seven \n",
    "development wells by specific deadlines, Myers said.  \"Continuing this 30-year record of non-development and \n",
    "delay of an oil and gas lessee's obligation to develop and \n",
    "produce its oil and gas lease makes a mockery of the statutory, \n",
    "regulatory and contractual protections for the State as owner \n",
    "of the oil and gas estate,\" Myers wrote in his 2005 decision \n",
    "that launched the state's current showdown with Exxon Mobil.  Exxon Mobil has until November 3 to appeal the state's \n",
    "default declaration, and a hearing on the appeal is scheduled \n",
    "10 days after that, state officials said.\n",
    "'''\n"
   ]
  },
  {
   "cell_type": "code",
   "execution_count": 17,
   "metadata": {},
   "outputs": [],
   "source": [
    "content = '''\n",
    "A Chinese doctor who tried to issue the first warnings about the deadly coronavirus outbreak has died, the hospital treating him has said.\n",
    "'''"
   ]
  },
  {
   "cell_type": "code",
   "execution_count": 18,
   "metadata": {},
   "outputs": [
    {
     "data": {
      "text/plain": [
       "-0.7003"
      ]
     },
     "execution_count": 18,
     "metadata": {},
     "output_type": "execute_result"
    }
   ],
   "source": [
    "sia = SentimentIntensityAnalyzer()\n",
    "sia.polarity_scores(content)['compound']"
   ]
  },
  {
   "cell_type": "code",
   "execution_count": 1,
   "metadata": {},
   "outputs": [],
   "source": []
  },
  {
   "cell_type": "code",
   "execution_count": null,
   "metadata": {},
   "outputs": [],
   "source": []
  },
  {
   "cell_type": "code",
   "execution_count": null,
   "metadata": {},
   "outputs": [],
   "source": []
  },
  {
   "cell_type": "code",
   "execution_count": null,
   "metadata": {},
   "outputs": [],
   "source": []
  }
 ],
 "metadata": {
  "kernelspec": {
   "display_name": "Python 3",
   "language": "python",
   "name": "python3"
  },
  "language_info": {
   "codemirror_mode": {
    "name": "ipython",
    "version": 3
   },
   "file_extension": ".py",
   "mimetype": "text/x-python",
   "name": "python",
   "nbconvert_exporter": "python",
   "pygments_lexer": "ipython3",
   "version": "3.7.4"
  }
 },
 "nbformat": 4,
 "nbformat_minor": 4
}
